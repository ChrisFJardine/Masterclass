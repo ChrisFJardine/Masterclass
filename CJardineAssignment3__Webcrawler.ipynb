{
  "nbformat": 4,
  "nbformat_minor": 0,
  "metadata": {
    "colab": {
      "name": "CJardineAssignment3 _Webcrawler",
      "provenance": [],
      "collapsed_sections": [],
      "include_colab_link": true
    },
    "kernelspec": {
      "display_name": "Python 3",
      "language": "python",
      "name": "python3"
    },
    "language_info": {
      "codemirror_mode": {
        "name": "ipython",
        "version": 3
      },
      "file_extension": ".py",
      "mimetype": "text/x-python",
      "name": "python",
      "nbconvert_exporter": "python",
      "pygments_lexer": "ipython3",
      "version": "3.8.5"
    }
  },
  "cells": [
    {
      "cell_type": "markdown",
      "metadata": {
        "id": "view-in-github",
        "colab_type": "text"
      },
      "source": [
        "<a href=\"https://colab.research.google.com/github/ChrisFJardine/Masterclass/blob/main/CJardineAssignment3__Webcrawler.ipynb\" target=\"_parent\"><img src=\"https://colab.research.google.com/assets/colab-badge.svg\" alt=\"Open In Colab\"/></a>"
      ]
    },
    {
      "cell_type": "code",
      "metadata": {
        "id": "51d8AYSHuAfS"
      },
      "source": [
        "from bs4 import BeautifulSoup\n",
        "import requests\n",
        "import numpy as np\n",
        "import pandas as pd\n",
        "import re\n",
        "import time\n",
        "import os\n",
        "from datetime import datetime, timedelta"
      ],
      "execution_count": 11,
      "outputs": []
    },
    {
      "cell_type": "code",
      "metadata": {
        "colab": {
          "base_uri": "https://localhost:8080/"
        },
        "id": "sth_UQkgdn0V",
        "outputId": "89e4a8b8-779f-4d7f-ad50-7d75ac359767"
      },
      "source": [
        "from google.colab import drive\n",
        "drive.mount('/content/drive')"
      ],
      "execution_count": 4,
      "outputs": [
        {
          "output_type": "stream",
          "name": "stdout",
          "text": [
            "Mounted at /content/drive\n"
          ]
        }
      ]
    },
    {
      "cell_type": "code",
      "metadata": {
        "id": "YX8UiTjCmwru"
      },
      "source": [
        "def get_date(soup):\n",
        "  mydate = soup.findAll(\"div\", {\"class\": \"form-group has-feedback date\"})\n",
        "  for x in mydate:\n",
        "    children = x.findChildren(\"input\" , recursive=False)\n",
        "    for child in children:\n",
        "      date = child['value']\n",
        "  return(date)"
      ],
      "execution_count": 5,
      "outputs": []
    },
    {
      "cell_type": "code",
      "metadata": {
        "id": "ZbbbWfQVoMOD"
      },
      "source": [
        "def get_previous_date(soup):\n",
        "  link = soup.findAll(\"a\", {\"class\": \"prev\"}, href = True)\n",
        "  for x in link:\n",
        "    prev_date = (x['href'].replace('?date=', ''))\n",
        "  return(prev_date)"
      ],
      "execution_count": 6,
      "outputs": []
    },
    {
      "cell_type": "code",
      "metadata": {
        "id": "-WXZLlIDF1Kn"
      },
      "source": [
        "def get_news(soup):\n",
        "  mydivs = soup.findAll(\"div\", {\"class\": \"comp-rich-text teaser-text clearfix\"})\n",
        "  ignore = \"ABC News\"\n",
        "  news_item = []\n",
        "  news = []\n",
        "  date = get_date(soup)\n",
        "  for div in mydivs:\n",
        "    children = div.findChildren(\"p\" , recursive=False)\n",
        "    for child in children:\n",
        "      if ignore not in child.get_text():\n",
        "        news_item = [date, child.get_text()]\n",
        "        #news.append(child.get_text())\n",
        "        news.append(news_item)\n",
        "      else:\n",
        "        continue\n",
        "  return(news)"
      ],
      "execution_count": 15,
      "outputs": []
    },
    {
      "cell_type": "code",
      "metadata": {
        "id": "zN_tTF_xdETO"
      },
      "source": [
        "urlbase = \"https://www.abc.net.au/news/archive/?date=\"\n",
        "date = '2021-11-27'\n",
        "news = []\n",
        "for i in range(4000):\n",
        "  url = urlbase + date\n",
        "  try:\n",
        "    page = requests.get(url)\n",
        "    print(str(i) + ' : ' + str(page.elapsed.total_seconds()))\n",
        "  except:\n",
        "    print('error getting request ' + str(page.status_code))\n",
        "    date = datetime.strptime(date, '%Y-%m-%d') - timedelta(1) #failed, move on to next day\n",
        "  if len(page.content) > 1000:\n",
        "    soup = BeautifulSoup(page.text, 'lxml')\n",
        "    news.append(get_news(soup))\n",
        "    date = get_previous_date(soup)\n",
        "    time.sleep(0.5)\n",
        "\n",
        "news = pd.DataFrame(news)\n",
        "news.to_csv('/content/drive/MyDrive/Colab Notebooks/Assignment 3/news.csv', index=True)"
      ],
      "execution_count": null,
      "outputs": []
    }
  ]
}