{
  "nbformat": 4,
  "nbformat_minor": 0,
  "metadata": {
    "colab": {
      "name": "CJardineAssignment3 _Webcrawler",
      "provenance": [],
      "collapsed_sections": [],
      "include_colab_link": true
    },
    "kernelspec": {
      "display_name": "Python 3",
      "language": "python",
      "name": "python3"
    },
    "language_info": {
      "codemirror_mode": {
        "name": "ipython",
        "version": 3
      },
      "file_extension": ".py",
      "mimetype": "text/x-python",
      "name": "python",
      "nbconvert_exporter": "python",
      "pygments_lexer": "ipython3",
      "version": "3.8.5"
    }
  },
  "cells": [
    {
      "cell_type": "markdown",
      "metadata": {
        "id": "view-in-github",
        "colab_type": "text"
      },
      "source": [
        "<a href=\"https://colab.research.google.com/github/ChrisFJardine/Masterclass/blob/main/CJardineAssignment3__Webcrawler.ipynb\" target=\"_parent\"><img src=\"https://colab.research.google.com/assets/colab-badge.svg\" alt=\"Open In Colab\"/></a>"
      ]
    },
    {
      "cell_type": "code",
      "metadata": {
        "id": "51d8AYSHuAfS"
      },
      "source": [
        "#Import Libraries\n",
        "from bs4 import BeautifulSoup\n",
        "import requests\n",
        "import numpy as np\n",
        "import pandas as pd\n",
        "import re\n",
        "import time\n",
        "import os\n",
        "from datetime import datetime, timedelta"
      ],
      "execution_count": 1,
      "outputs": []
    },
    {
      "cell_type": "code",
      "metadata": {
        "colab": {
          "base_uri": "https://localhost:8080/"
        },
        "id": "sth_UQkgdn0V",
        "outputId": "caa79a99-2ad5-4d25-a48c-a5f5a050eb1e"
      },
      "source": [
        "#Map Google drive\n",
        "from google.colab import drive\n",
        "drive.mount('/content/drive')"
      ],
      "execution_count": 2,
      "outputs": [
        {
          "output_type": "stream",
          "name": "stdout",
          "text": [
            "Mounted at /content/drive\n"
          ]
        }
      ]
    },
    {
      "cell_type": "code",
      "metadata": {
        "id": "YX8UiTjCmwru"
      },
      "source": [
        "def get_date(soup):                  #Gets the date from the page - superceded \n",
        "  mydate = soup.findAll(\"div\", {\"class\": \"form-group has-feedback date\"})\n",
        "  for x in mydate:\n",
        "    children = x.findChildren(\"input\" , recursive=False)\n",
        "    for child in children:\n",
        "      date = child['value']\n",
        "  return(date)"
      ],
      "execution_count": 3,
      "outputs": []
    },
    {
      "cell_type": "code",
      "metadata": {
        "id": "ZbbbWfQVoMOD"
      },
      "source": [
        "def get_previous_date(soup):           #Gets the date from the 'previous' input button \n",
        "  link = soup.findAll(\"a\", {\"class\": \"prev\"}, href = True)\n",
        "  for x in link:\n",
        "    prev_date = (x['href'].replace('?date=', ''))   #'back date' button\n",
        "  return(prev_date)"
      ],
      "execution_count": 4,
      "outputs": []
    },
    {
      "cell_type": "code",
      "metadata": {
        "id": "-WXZLlIDF1Kn"
      },
      "source": [
        "def get_news(soup):                   #extracts the teaser text from a page -class comp-rich-text teaser-text clearfix\n",
        "  mydivs = soup.findAll(\"div\", {\"class\": \"comp-rich-text teaser-text clearfix\"})\n",
        "  ignore = \"ABC News\"\n",
        "  news_item = []\n",
        "  news = []\n",
        "  date = get_date(soup)\n",
        "  for div in mydivs:\n",
        "    children = div.findChildren(\"p\" , recursive=False)    #Get data from p divs\n",
        "    for child in children:\n",
        "      if ignore not in child.get_text():\n",
        "        news_item = [date, child.get_text()]              #extract the teaser text and associated with the date\n",
        "        news.append(news_item)                            #build the list.\n",
        "      else:\n",
        "        continue\n",
        "  return(news)"
      ],
      "execution_count": 5,
      "outputs": []
    },
    {
      "cell_type": "code",
      "metadata": {
        "id": "zN_tTF_xdETO",
        "outputId": "f7710390-e238-4716-bb5d-83cfbfddef54",
        "colab": {
          "base_uri": "https://localhost:8080/"
        }
      },
      "source": [
        "#Crawl web page archives and extract soup\n",
        "urlbase = \"https://www.abc.net.au/news/archive/?date=\"\n",
        "date = '2021-11-27'                                       #Starts here and crawls across historical dates\n",
        "news = []\n",
        "print('Launching Webcrawler on ' + urlbase + date)\n",
        "for i in range(4000):\n",
        "  url = urlbase + date                                    #page to pull\n",
        "  try:\n",
        "    page = requests.get(url)\n",
        "    print('Request #' + str(i) + ' : retrieved in  ' + str(page.elapsed.total_seconds()) + ' seconds')\n",
        "  except:\n",
        "    print('No soup for you! ' + str(page.status_code))   \n",
        "    date = datetime.strptime(date, '%Y-%m-%d') - timedelta(1) #failed, move on to next day\n",
        "  if len(page.content) > 1000:\n",
        "    soup = BeautifulSoup(page.text, 'lxml')               \n",
        "    news.append(get_news(soup))                           #Get the news, build the list of articles\n",
        "    date = get_previous_date(soup)                        #Get the date for the next page\n",
        "    time.sleep(0.5)                                       #Pad request to avoid being a pest\n",
        "\n",
        "news = pd.DataFrame(news)\n",
        "#news.to_csv('/content/drive/MyDrive/Colab Notebooks/Assignment 3/ExtractedNews.csv', index=True) "
      ],
      "execution_count": 7,
      "outputs": [
        {
          "output_type": "stream",
          "name": "stdout",
          "text": [
            "Launching Webcrawler on https://www.abc.net.au/news/archive/?date=2021-11-27\n",
            "Request #0 : retrieved in  0.011681 seconds\n",
            "Request #1 : retrieved in  0.012189 seconds\n",
            "Request #2 : retrieved in  0.015284 seconds\n",
            "Request #3 : retrieved in  0.011292 seconds\n",
            "Request #4 : retrieved in  0.013421 seconds\n",
            "Request #5 : retrieved in  0.294537 seconds\n",
            "Request #6 : retrieved in  0.428726 seconds\n",
            "Request #7 : retrieved in  0.014552 seconds\n",
            "Request #8 : retrieved in  0.0133 seconds\n",
            "Request #9 : retrieved in  0.01848 seconds\n"
          ]
        }
      ]
    }
  ]
}